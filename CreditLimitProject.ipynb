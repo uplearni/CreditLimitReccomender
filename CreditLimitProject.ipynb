{
  "nbformat": 4,
  "nbformat_minor": 0,
  "metadata": {
    "colab": {
      "provenance": [],
      "authorship_tag": "ABX9TyPfUF1hPe1qjeYwo7wJg4Xx",
      "include_colab_link": true
    },
    "kernelspec": {
      "name": "python3",
      "display_name": "Python 3"
    },
    "language_info": {
      "name": "python"
    }
  },
  "cells": [
    {
      "cell_type": "markdown",
      "metadata": {
        "id": "view-in-github",
        "colab_type": "text"
      },
      "source": [
        "<a href=\"https://colab.research.google.com/github/uplearni/CreditLimitReccomender/blob/main/CreditLimitProject.ipynb\" target=\"_parent\"><img src=\"https://colab.research.google.com/assets/colab-badge.svg\" alt=\"Open In Colab\"/></a>"
      ]
    },
    {
      "cell_type": "code",
      "execution_count": 2,
      "metadata": {
        "id": "EhFDC3xW-pYk"
      },
      "outputs": [],
      "source": [
        "#libraries\n",
        "\n",
        "#for data manipulation\n",
        "import pandas as pd;\n",
        "import numpy as np;\n",
        "import io\n",
        "import warnings\n",
        "warnings.filterwarnings('ignore')\n",
        "\n",
        "#for data visualisation\n",
        "import matplotlib.pyplot as plt;\n",
        "import seaborn as sns;\n",
        "from matplotlib.cbook import boxplot_stats\n",
        "\n",
        "#for data modelling\n",
        "from sklearn.model_selection import train_test_split\n",
        "#models\n",
        "from sklearn.linear_model import LinearRegression\n",
        "from sklearn.tree import DecisionTreeRegressor\n",
        "from sklearn.ensemble import RandomForestRegressor\n",
        "from sklearn.svm import SVR\n",
        "from sklearn.neighbors import KNeighborsRegressor\n",
        "#for model evaluation\n",
        "from sklearn.metrics import r2_score\n",
        "from sklearn.metrics import mean_squared_error\n",
        "#for model preprocessing\n",
        "from sklearn.preprocessing import PowerTransformer\n",
        "#for statistical analysis\n",
        "import statsmodels.api as sm"
      ]
    },
    {
      "cell_type": "code",
      "source": [
        "#dataset\n",
        "url = ''\n",
        "Credit_Data= pd.read_csv(url)"
      ],
      "metadata": {
        "id": "2sgp4uLbfp8Q"
      },
      "execution_count": null,
      "outputs": []
    }
  ]
}